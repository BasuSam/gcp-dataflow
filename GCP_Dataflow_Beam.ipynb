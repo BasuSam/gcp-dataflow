{
  "nbformat": 4,
  "nbformat_minor": 0,
  "metadata": {
    "colab": {
      "name": "GCP Dataflow Beam.ipynb",
      "provenance": [],
      "collapsed_sections": [],
      "authorship_tag": "ABX9TyPqERPsnzL2dfgnMCGeAOHE",
      "include_colab_link": true
    },
    "kernelspec": {
      "name": "python3",
      "display_name": "Python 3"
    },
    "language_info": {
      "name": "python"
    }
  },
  "cells": [
    {
      "cell_type": "markdown",
      "metadata": {
        "id": "view-in-github",
        "colab_type": "text"
      },
      "source": [
        "<a href=\"https://colab.research.google.com/github/BasuSam/gcp-dataflow/blob/main/GCP_Dataflow_Beam.ipynb\" target=\"_parent\"><img src=\"https://colab.research.google.com/assets/colab-badge.svg\" alt=\"Open In Colab\"/></a>"
      ]
    },
    {
      "cell_type": "code",
      "metadata": {
        "id": "u9MIbT4HDLBZ"
      },
      "source": [
        "!pip install apache-beam[gcp]\n",
        "import apache_beam as beam"
      ],
      "execution_count": null,
      "outputs": []
    },
    {
      "cell_type": "markdown",
      "metadata": {
        "id": "1xSOERKuq9ST"
      },
      "source": [
        "Enable App Engine, Cloud Scheduler, Cloud Build APIs."
      ]
    },
    {
      "cell_type": "code",
      "metadata": {
        "colab": {
          "resources": {
            "http://localhost:8080/nbextensions/google.colab/files.js": {
              "data": "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",
              "ok": true,
              "headers": [
                [
                  "content-type",
                  "application/javascript"
                ]
              ],
              "status": 200,
              "status_text": ""
            }
          },
          "base_uri": "https://localhost:8080/",
          "height": 106
        },
        "id": "jvkEvXfhEKJd",
        "outputId": "7448bf52-5d17-4873-c612-230564b5f870"
      },
      "source": [
        "#upload the Service Account Key\n",
        "from google.colab import files\n",
        "uploaded=files.upload()\n",
        "!pwd\n",
        "!ls"
      ],
      "execution_count": null,
      "outputs": [
        {
          "output_type": "display_data",
          "data": {
            "text/html": [
              "\n",
              "     <input type=\"file\" id=\"files-df590dbc-fea8-4961-880a-101a3b2fd83c\" name=\"files[]\" multiple disabled\n",
              "        style=\"border:none\" />\n",
              "     <output id=\"result-df590dbc-fea8-4961-880a-101a3b2fd83c\">\n",
              "      Upload widget is only available when the cell has been executed in the\n",
              "      current browser session. Please rerun this cell to enable.\n",
              "      </output>\n",
              "      <script src=\"/nbextensions/google.colab/files.js\"></script> "
            ],
            "text/plain": [
              "<IPython.core.display.HTML object>"
            ]
          },
          "metadata": {
            "tags": []
          }
        },
        {
          "output_type": "stream",
          "text": [
            "Saving sandpit-samrat-basu-179x-660313590649.json to sandpit-samrat-basu-179x-660313590649.json\n",
            "/content\n",
            "sample_data  sandpit-samrat-basu-179x-660313590649.json\n"
          ],
          "name": "stdout"
        }
      ]
    },
    {
      "cell_type": "code",
      "metadata": {
        "id": "XM_638WvE24N"
      },
      "source": [
        "# Set Service Account key in the environment variable\n",
        "import os\n",
        "os.environ[\"GOOGLE_APPLICATION_CREDENTIALS\"] = '/content/sandpit-samrat-basu-179x-660313590649.json'"
      ],
      "execution_count": null,
      "outputs": []
    },
    {
      "cell_type": "code",
      "metadata": {
        "id": "U4WbK-8PaGTT"
      },
      "source": [
        "# Steps to enable access to GCLOUD & GSUTIL\n",
        "from google.colab import auth\n",
        "auth.authenticate_user()\n",
        "!curl https://sdk.cloud.google.com | bash\n",
        "!gcloud init"
      ],
      "execution_count": null,
      "outputs": []
    },
    {
      "cell_type": "code",
      "metadata": {
        "id": "C2cwwl0AY7ZW"
      },
      "source": [
        "#Create GCS bucket\n",
        "!export BUCKET=\"179x-dataflow\"\n",
        "!gsutil mb -c nearline -l europe-west2 gs://$BUCKET"
      ],
      "execution_count": null,
      "outputs": []
    },
    {
      "cell_type": "code",
      "metadata": {
        "id": "8HS5o2uvsP0w"
      },
      "source": [
        "#Create a Pub/Sub topic and a subscription to that topic. This is a streaming source of data for the sample.\n",
        "# For simplicity use the same topic name as the subscription name.\n",
        "!export TOPIC=\"messages\"\n",
        "!export SUBSCRIPTION=\"$TOPIC\"\n",
        "\n",
        "!gcloud pubsub topics create $TOPIC\n",
        "!gcloud pubsub subscriptions create --topic $TOPIC $SUBSCRIPTION"
      ],
      "execution_count": null,
      "outputs": []
    },
    {
      "cell_type": "code",
      "metadata": {
        "id": "I6BWf3HWsgZj"
      },
      "source": [
        "#Create a Cloud Scheduler job to publish \"positive\" and \"negative\" ratings every 1 and 2 minutes. \n",
        "#This publishes messages to the Pub/Sub source topic.\n",
        "\n",
        "# Create a publisher for \"positive ratings\" that publishes 1 message per minute\n",
        "# If an App Engine app does not exist for the project, this step will create one (To check why App is required).\n",
        "!gcloud scheduler jobs create pubsub positive-ratings-publisher \\\n",
        "  --schedule=\"*/1 * * * *\" \\\n",
        "  --topic=\"$TOPIC\" \\\n",
        "  --message-body='{\"url\": \"https://www.amazon.com/\", \"review\": \"positive\"}'\n",
        "\n",
        "# Start the job.\n",
        "!gcloud scheduler jobs run positive-ratings-publisher\n",
        "\n",
        "# Create and run another similar publisher for \"negative ratings\" that\n",
        "# publishes 1 message every 2 minutes.\n",
        "!gcloud scheduler jobs create pubsub negative-ratings-publisher \\\n",
        "  --schedule=\"*/2 * * * *\" \\\n",
        "  --topic=\"$TOPIC\" \\\n",
        "  --message-body='{\"url\": \"https://www.amazon.com/\", \"review\": \"negative\"}'\n",
        "\n",
        "!gcloud scheduler jobs run negative-ratings-publisher"
      ],
      "execution_count": null,
      "outputs": []
    },
    {
      "cell_type": "code",
      "metadata": {
        "id": "tutn1d63r0_h"
      },
      "source": [
        "#Create Dataset in BigQuery\n",
        "\n",
        "!export PROJECT=\"$(gcloud config get-value project)\"\n",
        "!export DATASET=\"beam_samples\"\n",
        "!export TABLE=\"streaming_beam\"\n",
        "\n",
        "!bq mk --location \"europe-west2\" --dataset \"$PROJECT:$DATASET\""
      ],
      "execution_count": null,
      "outputs": []
    },
    {
      "cell_type": "code",
      "metadata": {
        "id": "7nCaTiK2tUjA"
      },
      "source": [
        "#Clone the python-docs-samples repository and navigate to the code sample.\n",
        "!git clone https://github.com/GoogleCloudPlatform/python-docs-samples.git\n",
        "!cd python-docs-samples/dataflow/flex-templates/streaming_beam"
      ],
      "execution_count": null,
      "outputs": []
    },
    {
      "cell_type": "markdown",
      "metadata": {
        "id": "kWk0gYSAwCHg"
      },
      "source": [
        "Now to build an Apache Beam streaming pipeline that reads JSON encoded messages from Pub/Sub, transforms the message data, and writes the results to a BigQuery table.\n",
        "\n",
        "Important artifacts downloaded from GIT:\n",
        "\n",
        "Dockerfile\n",
        "\n",
        "streaming_beam.py\n",
        "\n",
        "metadata.json"
      ]
    },
    {
      "cell_type": "code",
      "metadata": {
        "id": "4hJ7l1nvwVVt"
      },
      "source": [
        "#Building a container image\n",
        "#Build the Docker image for the Apache Beam pipeline. We are using Cloud Build so we don't need a local installation of Docker.\n",
        "\n",
        "# (Optional) Enable to use Kaniko cache by default.\n",
        "!gcloud config set builds/use_kaniko True"
      ],
      "execution_count": null,
      "outputs": []
    },
    {
      "cell_type": "code",
      "metadata": {
        "id": "NZSHcEFwwmom"
      },
      "source": [
        "#CloudBuild builds a Docker image using a Dockerfile and saves it into Container Registry; where the image is accessible to other Google Cloud products.\n",
        "!export TEMPLATE_IMAGE=\"eu.gcr.io/$PROJECT/samples/dataflow/streaming-beam:latest\"\n",
        "\n",
        "# Build the image into Container Registry, this is roughly equivalent to:\n",
        "#   gcloud auth configure-docker\n",
        "#   docker image build -t $TEMPLATE_IMAGE .\n",
        "#   docker push $TEMPLATE_IMAGE\n",
        "!gcloud builds submit --tag \"$TEMPLATE_IMAGE\" ."
      ],
      "execution_count": null,
      "outputs": []
    },
    {
      "cell_type": "markdown",
      "metadata": {
        "id": "7EUKfR2Rxhiu"
      },
      "source": [
        "Creating a Flex Template\n",
        "\n",
        "To run a template, we need to create a template spec file containing all the necessary information to run the job, such as the SDK information and metadata.\n",
        "\n",
        "The metadata.json file contains additional information for the template such as the \"name\", \"description\" and input \"parameters\" field.\n",
        "\n",
        "The template file must be created in a Cloud Storage location, and is used to run a new Dataflow job.\n",
        "\n"
      ]
    },
    {
      "cell_type": "code",
      "metadata": {
        "id": "a8b33c3IxwBn"
      },
      "source": [
        "!export TEMPLATE_PATH=\"gs://$BUCKET/samples/dataflow/templates/streaming-beam.json\"\n",
        "\n",
        "# Build the Flex Template using the base docker image that GCP provided.\n",
        "!gcloud dataflow flex-template build $TEMPLATE_PATH \\\n",
        "  --image \"$TEMPLATE_IMAGE\" \\\n",
        "  --sdk-language \"PYTHON\" \\\n",
        "  --metadata-file \"metadata.json\"\n"
      ],
      "execution_count": null,
      "outputs": []
    },
    {
      "cell_type": "markdown",
      "metadata": {
        "id": "18xVMQNnyAUk"
      },
      "source": [
        "Running a Dataflow Flex Template pipeline\n",
        "\n",
        "Now run the Apache Beam pipeline in Dataflow by referring to the template file and passing the template parameters required by the pipeline"
      ]
    },
    {
      "cell_type": "code",
      "metadata": {
        "id": "NltKlOAuyk_T"
      },
      "source": [
        "!export REGION=\"europe-west2\"\n",
        "\n",
        "# Run the Flex Template.\n",
        "!gcloud dataflow flex-template run \"streaming-beam-`date +%Y%m%d-%H%M%S`\" \\\n",
        "    --template-file-gcs-location \"$TEMPLATE_PATH\" \\\n",
        "    --parameters input_subscription=\"projects/$PROJECT/subscriptions/$SUBSCRIPTION\" \\\n",
        "    --parameters output_table=\"$PROJECT:$DATASET.$TABLE\" \\\n",
        "    --region \"$REGION\"\n"
      ],
      "execution_count": null,
      "outputs": []
    },
    {
      "cell_type": "code",
      "metadata": {
        "id": "hiyGNZ7c1llw"
      },
      "source": [
        "#Check the results in BigQuery by running the following query:\n",
        "\n",
        "bq query --use_legacy_sql=false 'SELECT * FROM `'\"$PROJECT.$DATASET.$TABLE\"'`'"
      ],
      "execution_count": null,
      "outputs": []
    },
    {
      "cell_type": "markdown",
      "metadata": {
        "id": "fV4HwV2_1uaG"
      },
      "source": [
        "While this pipeline is running, we can see new rows appended into the BigQuery table every minute.\n",
        "\n",
        "We can manually publish more messages from the Cloud Scheduler page to see how that affects the page review scores.\n",
        "\n",
        "We can also publish messages directly to a topic through the Pub/Sub topics page by selecting the topic you want to publish to, and then clicking the \"Publish message\" button at the top. This way we can test the pipeline with different URLs, just make sure you pass valid JSON data since this sample does not do any error handling for code simplicity.\n",
        "\n",
        "Try sending the following message and check back the BigQuery table about a minute later.\n",
        "\n",
        "{\"url\": \"https://cloud.google.com/bigquery/\", \"review\": \"positive\"}"
      ]
    },
    {
      "cell_type": "code",
      "metadata": {
        "id": "OjJpVifN2WYs"
      },
      "source": [
        "#Cleaning up\n",
        "\n",
        "#Clean up the Flex template resources\n",
        "#Stop the Dataflow pipeline.\n",
        "!gcloud dataflow jobs list \\\n",
        "    --filter 'NAME:streaming-beam AND STATE=Running' \\\n",
        "    --format 'value(JOB_ID)' \\\n",
        "    --region \"$REGION\" \\\n",
        "  | xargs gcloud dataflow jobs cancel --region \"$REGION\"\n",
        "\n",
        "#Delete the template spec file from Cloud Storage.\n",
        "!gsutil rm $TEMPLATE_PATH\n",
        "\n",
        "#Delete the Flex Template container image from Container Registry.\n",
        "!gcloud container images delete $TEMPLATE_IMAGE --force-delete-tags\n",
        "\n",
        "\n",
        "#Clean up Google Cloud project resources\n",
        "#Delete the Cloud Scheduler jobs.\n",
        "!gcloud scheduler jobs delete negative-ratings-publisher\n",
        "!gcloud scheduler jobs delete positive-ratings-publisher\n",
        "\n",
        "#Delete the Pub/Sub subscription and topic.\n",
        "!gcloud pubsub subscriptions delete $SUBSCRIPTION\n",
        "!gcloud pubsub topics delete $TOPIC\n",
        "\n",
        "#Delete the BigQuery items.\n",
        "!bq rm -f -t $PROJECT:$DATASET.$TABLE\n",
        "!bq rm -r -f -d $PROJECT:$DATASET\n",
        "\n",
        "#Delete GCS Bucket\n",
        "!gsutil rm -r gs://$BUCKET"
      ],
      "execution_count": null,
      "outputs": []
    },
    {
      "cell_type": "markdown",
      "metadata": {
        "id": "vbb18lCm3LJZ"
      },
      "source": [
        "Limitations\n",
        "\n",
        "Google-provided base image must be used to package the containers using Docker.\n",
        "\n",
        "We cannot update streaming jobs using Flex Template.\n",
        "\n",
        "We cannot use FlexRS for Flex Template jobs."
      ]
    }
  ]
}